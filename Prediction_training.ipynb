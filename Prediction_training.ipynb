{
 "cells": [
  {
   "cell_type": "code",
   "execution_count": null,
   "id": "c83dd3db-7ad6-412d-9459-289d584a1bdf",
   "metadata": {},
   "outputs": [],
   "source": [
    "# 1. Imports\n",
    "import pandas as pd\n",
    "import joblib\n",
    "import os\n",
    "from sklearn.preprocessing import LabelEncoder\n",
    "from sklearn.model_selection import train_test_split\n",
    "from sklearn.ensemble import RandomForestRegressor\n",
    "from sklearn.metrics import mean_absolute_error, r2_score\n",
    "\n",
    "# 2. Load dataset\n",
    "df = pd.read_csv(\"merged_dataset.csv\")\n",
    "df.head()\n"
   ]
  },
  {
   "cell_type": "code",
   "execution_count": null,
   "id": "151d655c-812b-495b-8722-6691defe48a9",
   "metadata": {},
   "outputs": [],
   "source": [
    "# 3. Clean and prepare data\n",
    "df = df.dropna(subset=[\"Calories Burned\", \"Exercise Intensity\", \"Duration\", \"Heart Rate\", \"BMI_Category\", \"Fitness_Level\"])\n",
    "\n",
    "# Define features and target\n",
    "X = df[[\"Exercise Intensity\", \"Duration\", \"Heart Rate\", \"BMI_Category\", \"Fitness_Level\"]]\n",
    "y = df[\"Calories Burned\"]\n",
    "\n",
    "# Encode categorical columns\n",
    "categorical_cols = [\"BMI_Category\", \"Fitness_Level\"]\n",
    "encoders = {}\n",
    "\n",
    "os.makedirs(\"prediction_utils\", exist_ok=True)\n",
    "\n",
    "for col in categorical_cols:\n",
    "    le = LabelEncoder()\n",
    "    X[col] = le.fit_transform(X[col])\n",
    "    encoders[col] = le\n",
    "    joblib.dump(le, f\"prediction_utils/{col}_encoder.pkl\")\n",
    "\n",
    "# Save feature columns\n",
    "joblib.dump(X.columns.tolist(), \"prediction_utils/feature_columns.pkl\")\n"
   ]
  },
  {
   "cell_type": "code",
   "execution_count": null,
   "id": "e201509a-50ab-4118-b19f-100571e9056a",
   "metadata": {},
   "outputs": [],
   "source": [
    "# 4. Train-test split and model training\n",
    "X_train, X_test, y_train, y_test = train_test_split(X, y, test_size=0.2, random_state=42)\n",
    "\n",
    "model = RandomForestRegressor(n_estimators=100, random_state=42)\n",
    "model.fit(X_train, y_train)\n",
    "\n",
    "# 5. Evaluation\n",
    "y_pred = model.predict(X_test)\n",
    "print(\"MAE:\", mean_absolute_error(y_test, y_pred))\n",
    "print(\"R² Score:\", r2_score(y_test, y_pred))\n",
    "\n",
    "# 6. Save model\n",
    "joblib.dump(model, \"prediction_utils/calories_burned_model.pkl\")\n",
    "print(\"Model and encoders saved.\")\n"
   ]
  },
  {
   "cell_type": "code",
   "execution_count": null,
   "id": "3427fdd3-3732-4771-a35a-5643b5bd7a3a",
   "metadata": {},
   "outputs": [],
   "source": [
    "# Define save paths\n",
    "base_path = \"prediction_utils\"\n",
    "os.makedirs(base_path, exist_ok=True)\n",
    "\n",
    "macros_model_path = os.path.join(base_path, \"macros_model.pkl\")\n",
    "macros_features_path = os.path.join(base_path, \"macros_feature_columns.pkl\")"
   ]
  },
  {
   "cell_type": "code",
   "execution_count": null,
   "id": "baf70ac5-473f-4948-80ee-c803c2b379bc",
   "metadata": {},
   "outputs": [],
   "source": [
    "# Macronutrient Distribution Prediction\n",
    "\n",
    "# Define features and targets for macronutrients\n",
    "X_macros = df[[\"Calories (kcal)\", \"Meal_Type\", \"Diet_Type\", \"BMI_Category\"]]\n",
    "y_macros = df[[\"Protein (g)\", \"Carbohydrates (g)\", \"Fat (g)\"]]\n",
    "\n",
    "# Encode categorical features\n",
    "macro_encoders = {}\n",
    "cat_cols = [\"Meal_Type\", \"Diet_Type\", \"BMI_Category\"]\n",
    "\n",
    "for col in cat_cols:\n",
    "    le = LabelEncoder()\n",
    "    X_macros[col] = le.fit_transform(X_macros[col])\n",
    "    macro_encoders[col] = le\n",
    "    joblib.dump(le, os.path.join(base_path, f\"{col}_encoder.pkl\"))\n",
    "\n",
    "# Save feature names\n",
    "joblib.dump(X_macros.columns.tolist(), macros_features_path)\n",
    "\n",
    "# Train-test split\n",
    "X_train_macros, X_test_macros, y_train_macros, y_test_macros = train_test_split(X_macros, y_macros, test_size=0.2, random_state=42)\n",
    "\n",
    "# Train model\n",
    "macros_model = RandomForestRegressor(n_estimators=100, random_state=42)\n",
    "macros_model.fit(X_train_macros, y_train_macros)\n",
    "\n",
    "# Evaluate\n",
    "macros_pred = macros_model.predict(X_test_macros)\n",
    "mae_macro = mean_absolute_error(y_test_macros, macros_pred)\n",
    "r2_macro = r2_score(y_test_macros, macros_pred)\n",
    "\n",
    "print(\"Macronutrient Prediction MAE:\", mae_macro)\n",
    "print(\"Macronutrient Prediction R² Score:\", r2_macro)\n",
    "\n",
    "# Save model\n",
    "joblib.dump(macros_model, macros_model_path)\n",
    "print(\"Macronutrient model and encoders saved.\")\n"
   ]
  },
  {
   "cell_type": "code",
   "execution_count": null,
   "id": "00a1bd8f-7c58-4298-818e-21f60f3e0d9f",
   "metadata": {},
   "outputs": [],
   "source": []
  }
 ],
 "metadata": {
  "kernelspec": {
   "display_name": "Python 3 (ipykernel)",
   "language": "python",
   "name": "python3"
  },
  "language_info": {
   "codemirror_mode": {
    "name": "ipython",
    "version": 3
   },
   "file_extension": ".py",
   "mimetype": "text/x-python",
   "name": "python",
   "nbconvert_exporter": "python",
   "pygments_lexer": "ipython3",
   "version": "3.12.4"
  }
 },
 "nbformat": 4,
 "nbformat_minor": 5
}
